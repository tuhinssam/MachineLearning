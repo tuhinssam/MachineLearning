{
 "cells": [
  {
   "cell_type": "markdown",
   "metadata": {},
   "source": [
    "# Python code practice https://www.practicepython.org/"
   ]
  },
  {
   "cell_type": "markdown",
   "metadata": {},
   "source": [
    "#Exercise-1\n",
    "Create a program that asks the user to enter their name and their age. Print out a message addressed to them that tells them the year that they will turn 100 years old.\n",
    "\n",
    "Extras:\n",
    "\n",
    "Add on to the previous program by asking the user for another number and printing out that many copies of the previous message. (Hint: order of operations exists in Python)\n",
    "Print out that many copies of the previous message on separate lines. (Hint: the string \"\\n is the same as pressing the ENTER button)"
   ]
  },
  {
   "cell_type": "code",
   "execution_count": 4,
   "metadata": {},
   "outputs": [
    {
     "name": "stdout",
     "output_type": "stream",
     "text": [
      "Enter your name: Tuhin\n",
      "Enter your age: 32\n",
      "Tuhin will turn hundred on 2087\n",
      "Tuhin will turn hundred on 2087\n",
      "Tuhin will turn hundred on 2087\n",
      "Tuhin will turn hundred on 2087\n",
      "Tuhin will turn hundred on 2087\n",
      "\n"
     ]
    }
   ],
   "source": [
    "\n",
    "name = input(\"Enter your name: \")\n",
    "age = int(input(\"Enter your age: \"))\n",
    "yearsToTurnHundred = 2019 + (100 - age)\n",
    "msg = f\"{name} will turn hundred on {yearsToTurnHundred}\\n\"\n",
    "print(msg * 5)"
   ]
  },
  {
   "cell_type": "markdown",
   "metadata": {},
   "source": [
    "Exercise 2:\n",
    "Ask the user for a number. Depending on whether the number is even or odd, print out an appropriate message to the user. Hint: how does an even / odd number react differently when divided by 2?\n",
    "\n",
    "Extras:\n",
    "\n",
    "If the number is a multiple of 4, print out a different message.\n",
    "Ask the user for two numbers: one number to check (call it num) and one number to divide by (check). If check divides evenly into num, tell that to the user. If not, print a different appropriate message."
   ]
  },
  {
   "cell_type": "code",
   "execution_count": 9,
   "metadata": {},
   "outputs": [
    {
     "name": "stdout",
     "output_type": "stream",
     "text": [
      "Enter a number: 21\n",
      "Number is odd number\n"
     ]
    }
   ],
   "source": [
    "num = int(input(\"Enter a number: \"))\n",
    "if num%4==0:\n",
    "    print(\"Number is divisible by 4\")\n",
    "elif num%2==0:\n",
    "    print(\"Number is even number\")      \n",
    "else:\n",
    "    print(\"Number is odd number\")"
   ]
  },
  {
   "cell_type": "markdown",
   "metadata": {},
   "source": [
    "Excercise 3:\n",
    "Take a list, say for example this one:\n",
    "\n",
    "  a = [1, 1, 2, 3, 5, 8, 13, 21, 34, 55, 89]\n",
    "and write a program that prints out all the elements of the list that are less than 5.\n",
    "\n",
    "Extras:\n",
    "\n",
    "Instead of printing the elements one by one, make a new list that has all the elements less than 5 from this list in it and print out this new list.\n",
    "Write this in one line of Python.\n",
    "Ask the user for a number and return a list that contains only elements from the original list a that are smaller than that number given by the user."
   ]
  },
  {
   "cell_type": "code",
   "execution_count": 12,
   "metadata": {},
   "outputs": [
    {
     "name": "stdout",
     "output_type": "stream",
     "text": [
      "Please give a number:10\n",
      "number less than 10 are: [2, 1, 4, 3, 2, 7, 9]\n"
     ]
    }
   ],
   "source": [
    "inputList = [22,2,1,4,3,31,21,45,2,56,7,9,11]\n",
    "ip = int(input(\"Please give a number:\"))\n",
    "outputList = []\n",
    "for loopVar in inputList:\n",
    "    if loopVar < ip:\n",
    "        outputList.append(loopVar)\n",
    "print(f\"number less than {ip} are: \"+str(outputList))\n",
    "        "
   ]
  },
  {
   "cell_type": "markdown",
   "metadata": {},
   "source": [
    "Excercise 4:\n",
    "Create a program that asks the user for a number and then prints out a list of all the divisors of that number. (If you don’t know what a divisor is, it is a number that divides evenly into another number. For example, 13 is a divisor of 26 because 26 / 13 has no remainder.)"
   ]
  },
  {
   "cell_type": "code",
   "execution_count": 19,
   "metadata": {},
   "outputs": [
    {
     "name": "stdout",
     "output_type": "stream",
     "text": [
      "Please give a number: 1208\n",
      "Divisors of 1208 are: [2, 4, 8, 151, 302, 604]\n"
     ]
    }
   ],
   "source": [
    "num = int(input(\"Please give a number: \"))\n",
    "divisors = []\n",
    "for loopvar in range(2,num):\n",
    "    if num%loopvar == 0:\n",
    "        divisors.append(loopvar)        \n",
    "print(f\"Divisors of {num} are: \"+str(divisors))"
   ]
  },
  {
   "cell_type": "markdown",
   "metadata": {},
   "source": [
    "Exercise 5:\n",
    "Take two lists, say for example these two:\n",
    "\n",
    "  a = [1, 1, 2, 3, 5, 8, 13, 21, 34, 55, 89]\n",
    "  b = [1, 2, 3, 4, 5, 6, 7, 8, 9, 10, 11, 12, 13]\n",
    "and write a program that returns a list that contains only the elements that are common between the lists (without duplicates). Make sure your program works on two lists of different sizes.\n",
    "\n",
    "Extras:\n",
    "\n",
    "Randomly generate two lists to test this\n",
    "Write this in one line of Python (don’t worry if you can’t figure this out at this point - we’ll get to it soon)"
   ]
  },
  {
   "cell_type": "code",
   "execution_count": 53,
   "metadata": {},
   "outputs": [
    {
     "name": "stdout",
     "output_type": "stream",
     "text": [
      "['8', '6', '2']\n",
      "['5', '5', '6']\n",
      "['6']\n"
     ]
    }
   ],
   "source": [
    "import random\n",
    "a = [x for x in str(random.randint(1, 1000))]\n",
    "print(a)\n",
    "b = [x for x in str(random.randint(1, 1000))]\n",
    "print(b)\n",
    "outlist =[]\n",
    "for var1 in a:\n",
    "    if var1 in b:\n",
    "        outlist.append(var1)\n",
    "print(outlist)"
   ]
  },
  {
   "cell_type": "markdown",
   "metadata": {},
   "source": [
    "Exercise 6:\n",
    "Ask the user for a string and print out whether this string is a palindrome or not. (A palindrome is a string that reads the same forwards and backwards.)"
   ]
  },
  {
   "cell_type": "code",
   "execution_count": 57,
   "metadata": {},
   "outputs": [
    {
     "name": "stdout",
     "output_type": "stream",
     "text": [
      "enter a name to check for palindrome: abcba\n",
      "abcba\n",
      "abcba is a palindrome\n"
     ]
    }
   ],
   "source": [
    "name = input(\"enter a name to check for palindrome: \")\n",
    "reverse = name[::-1]\n",
    "#print(reverse)\n",
    "if name == reverse:\n",
    "    print (f\"{name} is a palindrome\")\n",
    "else:\n",
    "    print (f\"{name} is NOT a palindrome\")"
   ]
  },
  {
   "cell_type": "markdown",
   "metadata": {},
   "source": [
    "Excercise 7:\n",
    "    Let’s say I give you a list saved in a variable: a = [1, 4, 9, 16, 25, 36, 49, 64, 81, 100]. \n",
    "   Write one line of Python that takes this list a and makes a new list that has only the even elements of this list in it."
   ]
  },
  {
   "cell_type": "code",
   "execution_count": 59,
   "metadata": {},
   "outputs": [
    {
     "name": "stdout",
     "output_type": "stream",
     "text": [
      "[4, 16, 36, 64, 100]\n"
     ]
    }
   ],
   "source": [
    "nums = [1, 4, 9, 16, 25, 36, 49, 64, 81, 100]\n",
    "evenNums = [loopvar for loopvar in nums if loopvar % 2 == 0]\n",
    "print(evenNums)"
   ]
  },
  {
   "cell_type": "markdown",
   "metadata": {},
   "source": [
    "Exercise 8\n",
    "Make a two-player Rock-Paper-Scissors game. (Hint: Ask for player plays (using input), compare them, print out a message of congratulations to the winner, and ask if the players want to start a new game)\n",
    "\n",
    "Remember the rules:\n",
    "\n",
    "Rock beats scissors\n",
    "Scissors beats paper\n",
    "Paper beats rock"
   ]
  },
  {
   "cell_type": "code",
   "execution_count": 68,
   "metadata": {},
   "outputs": [
    {
     "name": "stdout",
     "output_type": "stream",
     "text": [
      "Player1: Enter a value (Rock/Paper/Scissors): Rock\n",
      "Player2: Enter a value (Rock/Paper/Scissors): Paper\n",
      "Player2 won\n",
      "Do you want to continue? (Y/N): y\n",
      "Player1: Enter a value (Rock/Paper/Scissors): tuhon\n",
      "Player2: Enter a value (Rock/Paper/Scissors): Rock\n",
      "incorrect data...\n",
      "Do you want to continue? (Y/N): N\n"
     ]
    }
   ],
   "source": [
    "while True:\n",
    "    player1 = input(\"Player1: Enter a value (Rock/Paper/Scissors): \")\n",
    "    player2 = input(\"Player2: Enter a value (Rock/Paper/Scissors): \")\n",
    "    if player1 == \"Rock\" and player2 == \"Paper\":\n",
    "        print(\"Player2 won\")\n",
    "    elif player1 == \"Rock\" and player2 == \"Scissors\":\n",
    "        print(\"Player1 won\")\n",
    "    elif player1 == \"Paper\" and player2 == \"Rock\":\n",
    "        print(\"Player1 won\")\n",
    "    elif player1 == \"Paper\" and player2 == \"Scissors\":\n",
    "        print(\"Player2 won\")\n",
    "    elif player1 == \"Scissors\" and player2 == \"Paper\":\n",
    "        print(\"Player1 won\")\n",
    "    elif player1 == \"Scissors\" and player2 == \"Rock\":\n",
    "        print(\"Player2 won\")\n",
    "    else:\n",
    "        print(\"incorrect data...\") \n",
    "    input_text = input(\"Do you want to continue? (Y/N): \")\n",
    "    if input_text == 'N':\n",
    "        break"
   ]
  },
  {
   "cell_type": "markdown",
   "metadata": {},
   "source": [
    "Exercise 9\n",
    "Generate a random number between 1 and 9 (including 1 and 9). Ask the user to guess the number, then tell them whether they guessed too low, too high, or exactly right. (Hint: remember to use the user input lessons from the very first exercise)"
   ]
  },
  {
   "cell_type": "code",
   "execution_count": 1,
   "metadata": {},
   "outputs": [
    {
     "name": "stdout",
     "output_type": "stream",
     "text": [
      "Guess a number: 22\n",
      "You guessed less!\n",
      "Guess a number: 34\n",
      "You guessed less!\n",
      "Guess a number: 44\n",
      "You guessed less!\n",
      "Guess a number: 56\n",
      "You guessed less!\n",
      "Guess a number: 67\n",
      "You guessed less!\n",
      "Guess a number: 78\n",
      "You guessed less!\n",
      "Guess a number: 89\n",
      "You guessed less!\n",
      "Guess a number: 99\n",
      "You guessed more!\n",
      "Guess a number: 91\n",
      "You guessed more!\n",
      "Guess a number: 90\n",
      "You guessed it Right!\n"
     ]
    }
   ],
   "source": [
    "import random\n",
    "actual_num = random.randint(0,100)\n",
    "while True:\n",
    "    guessed_num = int(input(\"Guess a number: \"))\n",
    "    if actual_num == guessed_num:\n",
    "        print(\"You guessed it Right!\")\n",
    "        break\n",
    "    elif guessed_num < actual_num:\n",
    "        print(\"You guessed less!\")\n",
    "    \n",
    "    else:\n",
    "        print(\"You guessed more!\")\n",
    "        "
   ]
  },
  {
   "cell_type": "markdown",
   "metadata": {},
   "source": [
    "Excercose10:\n",
    "    Take two lists, say for example these two:\n",
    "\n",
    "\ta = [1, 1, 2, 3, 5, 8, 13, 21, 34, 55, 89]\n",
    "\tb = [1, 2, 3, 4, 5, 6, 7, 8, 9, 10, 11, 12, 13]\n",
    "and write a program that returns a list that contains only the elements that are common between the lists "
   ]
  },
  {
   "cell_type": "code",
   "execution_count": 3,
   "metadata": {},
   "outputs": [
    {
     "name": "stdout",
     "output_type": "stream",
     "text": [
      "[9, 11, 26, 28]\n",
      "[9, 26, 11, 28]\n"
     ]
    }
   ],
   "source": [
    "lst1 = [4, 9, 1, 17, 11, 26, 28, 54, 69] \n",
    "lst2 = [9, 9, 74, 21, 45, 11, 63, 28, 26] \n",
    "#method1\n",
    "lst3 = [num for num in lst1 if num in lst2]\n",
    "print(lst3)\n",
    "#method2\n",
    "lst4 = list(set(lst1) & set(lst2))\n",
    "print(lst4)"
   ]
  },
  {
   "cell_type": "markdown",
   "metadata": {},
   "source": [
    "Exercise 11\n",
    "Ask the user for a number and determine whether the number is prime or not. (For those who have forgotten, a prime number is a number that has no divisors.). You can (and should!) use your answer to Exercise 4 to help you. Take this opportunity to practice using functions, described below."
   ]
  },
  {
   "cell_type": "code",
   "execution_count": 3,
   "metadata": {},
   "outputs": [],
   "source": [
    "def primecheck(num):\n",
    "    for loopvar in range(2,num):\n",
    "        if num%loopvar == 0:\n",
    "            return False\n",
    "    else:\n",
    "        return True"
   ]
  },
  {
   "cell_type": "code",
   "execution_count": 10,
   "metadata": {},
   "outputs": [
    {
     "name": "stdout",
     "output_type": "stream",
     "text": [
      "Please enter a number: 123\n",
      "123 is a NOT a Prime number\n"
     ]
    }
   ],
   "source": [
    "num = int(input(\"Please enter a number: \"))\n",
    "if primecheck(num):\n",
    "    print(f\"{num} is a Prime number\")\n",
    "else:\n",
    "    print(f\"{num} is a NOT a Prime number\")"
   ]
  },
  {
   "cell_type": "markdown",
   "metadata": {},
   "source": [
    "Exercise 12:\n",
    "Write a program that takes a list of numbers (for example, a = [5, 10, 15, 20, 25]) and makes a new list of only the first and last elements of the given list. For practice, write this code inside a function."
   ]
  },
  {
   "cell_type": "code",
   "execution_count": 11,
   "metadata": {},
   "outputs": [],
   "source": [
    "def firstandlast(nums):\n",
    "    newlist = []\n",
    "    newlist.append(nums[0])\n",
    "    newlist.append(nums[-1])\n",
    "    return newlist"
   ]
  },
  {
   "cell_type": "code",
   "execution_count": 12,
   "metadata": {},
   "outputs": [
    {
     "data": {
      "text/plain": [
       "[5, 25]"
      ]
     },
     "execution_count": 12,
     "metadata": {},
     "output_type": "execute_result"
    }
   ],
   "source": [
    "a = [5, 10, 15, 20, 25]\n",
    "firstandlast(a)"
   ]
  }
 ],
 "metadata": {
  "kernelspec": {
   "display_name": "Python 3",
   "language": "python",
   "name": "python3"
  },
  "language_info": {
   "codemirror_mode": {
    "name": "ipython",
    "version": 3
   },
   "file_extension": ".py",
   "mimetype": "text/x-python",
   "name": "python",
   "nbconvert_exporter": "python",
   "pygments_lexer": "ipython3",
   "version": "3.7.1"
  }
 },
 "nbformat": 4,
 "nbformat_minor": 2
}
